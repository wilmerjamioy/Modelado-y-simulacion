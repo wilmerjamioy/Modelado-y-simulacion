{
  "nbformat": 4,
  "nbformat_minor": 0,
  "metadata": {
    "colab": {
      "name": "Untitled2.ipynb",
      "provenance": [],
      "authorship_tag": "ABX9TyN+8EFdAyczK6F5CWC9VXIN",
      "include_colab_link": true
    },
    "kernelspec": {
      "name": "python3",
      "display_name": "Python 3"
    }
  },
  "cells": [
    {
      "cell_type": "markdown",
      "metadata": {
        "id": "view-in-github",
        "colab_type": "text"
      },
      "source": [
        "<a href=\"https://colab.research.google.com/github/wilmerjamioy/Modelado-y-simulacion/blob/master/Untitled2.ipynb\" target=\"_parent\"><img src=\"https://colab.research.google.com/assets/colab-badge.svg\" alt=\"Open In Colab\"/></a>"
      ]
    },
    {
      "cell_type": "markdown",
      "metadata": {
        "id": "2EeuM_Nbx1jW",
        "colab_type": "text"
      },
      "source": [
        "Modelado y Simulacion "
      ]
    },
    {
      "cell_type": "code",
      "metadata": {
        "id": "cU1cOwJaxy2v",
        "colab_type": "code",
        "colab": {}
      },
      "source": [
        "#importar librerias\n",
        "\n",
        "import numpy as np\n",
        "import matplotlib.pyplot as plt\n",
        "\n",
        "%matplotlib inline "
      ],
      "execution_count": 16,
      "outputs": []
    },
    {
      "cell_type": "code",
      "metadata": {
        "id": "RkyXal7dycA3",
        "colab_type": "code",
        "colab": {}
      },
      "source": [
        "def euler_sig(yn,h,f):\n",
        "  y_next=yn+h*f(yn)\n",
        "  return y_next\n",
        "\n",
        "def euler (y0,h,f,t_in,t_fin):\n",
        "  N=int((t_fin-t_in)/h)\n",
        "  t=np.linspace(t_in,t_fin,N+1)\n",
        "\n",
        "  y=np.zeros(N+1)\n",
        "  y[0]=y0\n",
        "\n",
        "  for i in range (0,N):\n",
        "    y[i+1]=euler_sig(y[i],h,f)\n",
        "\n",
        "  return t,y\n"
      ],
      "execution_count": 17,
      "outputs": []
    },
    {
      "cell_type": "code",
      "metadata": {
        "id": "hP3cgDYs1JdF",
        "colab_type": "code",
        "colab": {
          "base_uri": "https://localhost:8080/",
          "height": 282
        },
        "outputId": "a3be553d-e35a-49e0-d3d0-7b5c931710a7"
      },
      "source": [
        "def g(y):\n",
        "  crecimiento=np.log(2)*y\n",
        "  return crecimiento \n",
        "\n",
        "# valores de variables \n",
        "h=0.001\n",
        "t_in=0\n",
        "t_fin=10\n",
        "y_ini=1\n",
        "\n",
        "#sistema numérico\n",
        "t,y=euler(y_ini,h,g,t_in,t_fin)\n",
        "plt.plot(t,y, label='numérica')\n",
        "\n",
        "#sistema análitico \n",
        "plt.plot(t,np.power(2,t), label='análitica')\n",
        "\n",
        "plt.legend()\n",
        "\n",
        "last_num=t[-1]\n",
        "last_an=np.power(2,t[-1])\n",
        "\n",
        "print('el error del metodo para un h= {} es de {}'.format (h,(last_an-last_num)))"
      ],
      "execution_count": 22,
      "outputs": [
        {
          "output_type": "stream",
          "text": [
            "el error del metodo para un h= 0.001 es de 1014.0\n"
          ],
          "name": "stdout"
        },
        {
          "output_type": "display_data",
          "data": {
            "image/png": "[encoded data removed]",
            "text/plain": [
              "<Figure size 432x288 with 1 Axes>"
            ]
          },
          "metadata": {
            "tags": [],
            "needs_background": "light"
          }
        }
      ]
    }
  ]
}